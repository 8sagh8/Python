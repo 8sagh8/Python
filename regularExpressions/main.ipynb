{
 "cells": [
  {
   "cell_type": "code",
   "execution_count": 1,
   "metadata": {},
   "outputs": [],
   "source": [
    "import re"
   ]
  },
  {
   "cell_type": "code",
   "execution_count": 6,
   "metadata": {},
   "outputs": [],
   "source": [
    "value = \"Sammar Abbas's phone number is 4169181448, call him if you have any questions on dedgcoin Tesla's revenue is 40 billion, (451)-365-7795\"\n",
    "pattern = '\\d{10}|\\(\\d{3}\\)-\\d{3}-\\d{4}'"
   ]
  },
  {
   "cell_type": "code",
   "execution_count": 7,
   "metadata": {},
   "outputs": [
    {
     "data": {
      "text/plain": [
       "['4169181448', '(451)-365-7795']"
      ]
     },
     "execution_count": 7,
     "metadata": {},
     "output_type": "execute_result"
    }
   ],
   "source": [
    "re.findall(pattern, value)"
   ]
  },
  {
   "cell_type": "code",
   "execution_count": 10,
   "metadata": {},
   "outputs": [],
   "source": [
    "value2 = '''Note 1 – Overview\n",
    "Tesla, Inc. (“Tesla”, the “Company”, “we”, “us” or “our”) was incorporated in the State of Delaware on July 1, 2003. We design, develop, manufacture and sell high-performance fully electric vehicles and design, manufacture, install and sell solar energy generation and energy storage\n",
    "products. Our Chief Executive Officer, as the chief operating decision maker (“CODM”), organizes our company, manages resource allocations and measures performance among two operating and reportable segments: (i) automotive and (ii) energy generation and storage.\n",
    "Beginning in the first quarter of 2021, there has been a trend in many parts of the world of increasing availability and administration of vaccines\n",
    "against COVID-19, as well as an easing of restrictions on social, business, travel and government activities and functions. On the other hand, infection\n",
    "rates and regulations continue to fluctuate in various regions and there are ongoing global impacts resulting from the pandemic, including challenges\n",
    "and increases in costs for logistics and supply chains, such as increased port congestion, intermittent supplier delays and a shortfall of semiconductor\n",
    "supply. We have also previously been affected by temporary manufacturing closures, employment and compensation adjustments and impediments to\n",
    "administrative activities supporting our product deliveries and deployments.\n",
    "Note 2 – Summary of Significant Accounting Policies\n",
    "Unaudited Interim Financial Statements\n",
    "The consolidated balance sheet as of June 30, 2021, the consolidated statements of operations, the consolidated statements of comprehensive\n",
    "income, the consolidated statements of redeemable noncontrolling interests and equity for the three and six months ended June 30, 2021 and 2020 and\n",
    "the consolidated statements of cash flows for the six months ended June 30, 2021 and 2020, as well as other information disclosed in the accompanying\n",
    "notes, are unaudited. The consolidated balance sheet as of December 31, 2020 was derived from the audited consolidated financial statements as of that\n",
    "date. The interim consolidated financial statements and the accompanying notes should be read in conjunction with the annual consolidated financial\n",
    "statements and the accompanying notes contained in our Annual Report on Form 10-K for the year ended December 31, 2020.\n",
    "The interim consolidated financial statements and the accompanying notes have been prepared on the same basis as the annual consolidated\n",
    "financial statements and, in the opinion of management, reflect all adjustments, which include only normal recurring adjustments, necessary for a fair\n",
    "statement of the results of operations for the periods presented. The consolidated results of operations for any interim period are not necessarily\n",
    "indicative of the results to be expected for the full year or for any other future years or interim periods.\n",
    "Use of Estimates\n",
    "The preparation of financial statements in conformity with U.S. generally accepted accounting principles (“GAAP”) requires management to make\n",
    "estimates and assumptions that affect the reported amounts of assets, liabilities, revenues, costs and expenses and related disclosures in the\n",
    "accompanying notes.\n",
    "Due to the COVID-19 pandemic, there has been uncertainty and disruption in the global economy and financial markets which could impact our\n",
    "estimates and assumptions. We have assessed the impact and are not aware of any specific events or circumstances that required an update to our\n",
    "estimates and assumptions or materially affected the carrying value of our assets or liabilities as of the date of issuance of this Quarterly Report on\n",
    "Form 10-Q. These estimates may change as new events occur and additional information is obtained. Actual results could differ materially from these\n",
    "estimates under different assumptions or conditions.\n",
    "'''"
   ]
  },
  {
   "cell_type": "code",
   "execution_count": 12,
   "metadata": {},
   "outputs": [],
   "source": [
    "p2 = \"Note \\d – [^\\n]*\"\n",
    "p3 = \"Note \\d – ([^\\n]*)\""
   ]
  },
  {
   "cell_type": "code",
   "execution_count": 13,
   "metadata": {},
   "outputs": [
    {
     "data": {
      "text/plain": [
       "['Note 1 – Overview', 'Note 2 – Summary of Significant Accounting Policies']"
      ]
     },
     "execution_count": 13,
     "metadata": {},
     "output_type": "execute_result"
    }
   ],
   "source": [
    "re.findall(p2, value2)"
   ]
  },
  {
   "cell_type": "code",
   "execution_count": 14,
   "metadata": {},
   "outputs": [
    {
     "data": {
      "text/plain": [
       "['Overview', 'Summary of Significant Accounting Policies']"
      ]
     },
     "execution_count": 14,
     "metadata": {},
     "output_type": "execute_result"
    }
   ],
   "source": [
    "re.findall(p3, value2)"
   ]
  },
  {
   "cell_type": "code",
   "execution_count": 16,
   "metadata": {},
   "outputs": [],
   "source": [
    "t4 = '''\n",
    "The gross cost of operating lease vehicles in FY2021 Q1 was $4.34 billion and $3.54 billion, respectively. Operating\n",
    "lease vehicles on the consolidated balance sheets are presented net of accumulated depreciation of $595 million and $446 million as of fy2020 Q4\n",
    "and December 31, 2020, respectively.\n",
    "'''"
   ]
  },
  {
   "cell_type": "code",
   "execution_count": 18,
   "metadata": {},
   "outputs": [
    {
     "data": {
      "text/plain": [
       "['FY2021 Q1', 'fy2020 Q4']"
      ]
     },
     "execution_count": 18,
     "metadata": {},
     "output_type": "execute_result"
    }
   ],
   "source": [
    "p4 = \"FY\\d{4} Q[1-4]\"\n",
    "\n",
    "re.findall(p4, t4, flags= re.IGNORECASE)"
   ]
  },
  {
   "cell_type": "code",
   "execution_count": 19,
   "metadata": {},
   "outputs": [],
   "source": [
    "t5 = '''\n",
    "The gross cost of operating lease vehicles in FY2021 Q1 was $4.34 billion and $13.54 billion, respectively. Operating. tesela number is 4168598658\n",
    "lease vehicles on the consolidated balance sheets are presented net of accumulated depreciation of $595 million and $446 million as of fy2020 Q4\n",
    "and December 31, 2020, respectively.\n",
    "'''"
   ]
  },
  {
   "cell_type": "code",
   "execution_count": 20,
   "metadata": {},
   "outputs": [
    {
     "data": {
      "text/plain": [
       "['4.34', '13.54', '595', '446']"
      ]
     },
     "execution_count": 20,
     "metadata": {},
     "output_type": "execute_result"
    }
   ],
   "source": [
    "p5 = \"\\$([0-9\\.]+)\"\n",
    "\n",
    "re.findall(p5, t5)"
   ]
  },
  {
   "cell_type": "code",
   "execution_count": 29,
   "metadata": {},
   "outputs": [],
   "source": [
    "t6 = '''\n",
    "The gross cost of operating lease vehicles in FY2021 Q1 was $4.34 billion and.\n",
    "FY2020 Q4 it was $3 billion, respectively.\n",
    "\n",
    "FY2021 Q1 ==> 4.85\n",
    "FY2020 Q4 ==> 3\n",
    "'''"
   ]
  },
  {
   "cell_type": "code",
   "execution_count": 30,
   "metadata": {},
   "outputs": [
    {
     "data": {
      "text/plain": [
       "[('2021 Q1', '4.34'), ('2020 Q4', '3')]"
      ]
     },
     "execution_count": 30,
     "metadata": {},
     "output_type": "execute_result"
    }
   ],
   "source": [
    "p6 = \"FY(\\d{4} Q[1-4])[^\\$]+\\$([0-9\\.]+)\"\n",
    "\n",
    "re.findall(p6, t6)"
   ]
  },
  {
   "cell_type": "code",
   "execution_count": null,
   "metadata": {},
   "outputs": [],
   "source": []
  },
  {
   "cell_type": "code",
   "execution_count": null,
   "metadata": {},
   "outputs": [],
   "source": []
  }
 ],
 "metadata": {
  "interpreter": {
   "hash": "b7fd62cca8341af921a6029b3cdb73d8ef499d0a68ca72cddbd8497f15b116e4"
  },
  "kernelspec": {
   "display_name": "Python 3.8.8 ('base')",
   "language": "python",
   "name": "python3"
  },
  "language_info": {
   "codemirror_mode": {
    "name": "ipython",
    "version": 3
   },
   "file_extension": ".py",
   "mimetype": "text/x-python",
   "name": "python",
   "nbconvert_exporter": "python",
   "pygments_lexer": "ipython3",
   "version": "3.8.8"
  },
  "orig_nbformat": 4
 },
 "nbformat": 4,
 "nbformat_minor": 2
}
